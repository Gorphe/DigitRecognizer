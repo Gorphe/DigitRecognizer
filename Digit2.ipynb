{
  "nbformat": 4,
  "nbformat_minor": 0,
  "metadata": {
    "colab": {
      "name": "Digit.ipynb",
      "provenance": [],
      "collapsed_sections": [],
      "authorship_tag": "ABX9TyMgpCghAmyF8GxbwgYG2uFB",
      "include_colab_link": true
    },
    "kernelspec": {
      "name": "python3",
      "display_name": "Python 3"
    },
    "language_info": {
      "name": "python"
    }
  },
  "cells": [
    {
      "cell_type": "markdown",
      "metadata": {
        "id": "view-in-github",
        "colab_type": "text"
      },
      "source": [
        "<a href=\"https://colab.research.google.com/github/filsto/DigitRecognizer/blob/main/Digit2.ipynb\" target=\"_parent\"><img src=\"https://colab.research.google.com/assets/colab-badge.svg\" alt=\"Open In Colab\"/></a>"
      ]
    },
    {
      "cell_type": "code",
      "execution_count": 1,
      "metadata": {
        "id": "mKTMAf6Hirbj"
      },
      "outputs": [],
      "source": [
        "import tensorflow as tf\n",
        "import sklearn\n",
        "import numpy as np\n",
        "import pandas as pd\n",
        "import matplotlib.pyplot as plt\n",
        "from tensorflow import keras\n",
        "from tensorflow.keras import layers\n",
        "from tensorflow.keras.models import Sequential\n",
        "from tensorflow.keras.layers import Dense, BatchNormalization, Conv2D, Flatten, MaxPool2D, Dropout\n",
        "from tensorflow.keras.utils import to_categorical\n",
        "from sklearn.model_selection import train_test_split "
      ]
    },
    {
      "cell_type": "code",
      "source": [
        "# Partie A - les données\n",
        "\n",
        "from google.colab import drive\n",
        "drive.mount('/content/drive')\n",
        "from google.colab import files"
      ],
      "metadata": {
        "id": "u3vSAmr8i4y3",
        "colab": {
          "base_uri": "https://localhost:8080/"
        },
        "outputId": "e44cb114-1f74-46ab-dbaa-74c063456f75"
      },
      "execution_count": 2,
      "outputs": [
        {
          "output_type": "stream",
          "name": "stdout",
          "text": [
            "Mounted at /content/drive\n"
          ]
        }
      ]
    },
    {
      "cell_type": "markdown",
      "source": [
        ""
      ],
      "metadata": {
        "id": "5eyp409CToLQ"
      }
    },
    {
      "cell_type": "code",
      "source": [
        "#loader les datasets\n",
        "train_set = pd.read_csv('/content/drive/MyDrive/DATA/Digit_recognizer/train.csv', sep=\",\")\n",
        "test_set = pd.read_csv('/content/drive/MyDrive/DATA/Digit_recognizer/test.csv', sep=\",\")"
      ],
      "metadata": {
        "id": "x1wUQVNZRglz"
      },
      "execution_count": 3,
      "outputs": []
    },
    {
      "cell_type": "code",
      "source": [
        "#préparer les datas\n",
        "y_train=(train_set['label'])/255\n",
        "X_train=(train_set.drop(['label'], axis = 1))/255\n",
        "\n",
        "print('X_train:',X_train.shape)\n",
        "print('y_train:',y_train.shape)\n",
        "\n",
        "#redimensionner X\n",
        "X_train = X_train.values.reshape(-1,28,28,1)\n",
        "X_test = test_set.values.reshape(-1,28,28,1)\n",
        "\n",
        "#categoriser y\n",
        "y_train=pd.get_dummies(y_train)\n",
        "\n",
        "#splitter\n",
        "X_train, X_valid, y_train, y_valid = train_test_split(X_train, y_train, random_state=0)"
      ],
      "metadata": {
        "id": "hOcLNtPoF-Sn",
        "colab": {
          "base_uri": "https://localhost:8080/"
        },
        "outputId": "5aea2337-2a08-4ca5-9ce3-d8569f89f363"
      },
      "execution_count": 4,
      "outputs": [
        {
          "output_type": "stream",
          "name": "stdout",
          "text": [
            "X_train: (42000, 784)\n",
            "y_train: (42000,)\n"
          ]
        }
      ]
    },
    {
      "cell_type": "code",
      "source": [
        "print('X_train:',X_train.shape)\n",
        "print('y_train:',y_train.shape)\n",
        "print('X_valid:',X_valid.shape)\n",
        "print('y_valid:',y_valid.shape)"
      ],
      "metadata": {
        "id": "4uWdqeTEU1X4",
        "colab": {
          "base_uri": "https://localhost:8080/"
        },
        "outputId": "aee1f54f-f1ab-4750-f98e-0ff7bf3545e1"
      },
      "execution_count": 5,
      "outputs": [
        {
          "output_type": "stream",
          "name": "stdout",
          "text": [
            "X_train: (31500, 28, 28, 1)\n",
            "y_train: (31500, 10)\n",
            "X_valid: (10500, 28, 28, 1)\n",
            "y_valid: (10500, 10)\n"
          ]
        }
      ]
    },
    {
      "cell_type": "code",
      "source": [
        "# Partie B - le réseau de neurones\n",
        "\n",
        "modele = keras.Sequential([\n",
        "                  layers.Conv2D(32, kernel_size=(3,3), padding='same', activation='relu', input_shape=(28,28,1)),\n",
        "                  layers.MaxPool2D(),\n",
        "\n",
        "                  layers.Conv2D(16, kernel_size=(3,3), padding='same', activation='relu'),\n",
        "                  layers.MaxPool2D(),\n",
        "\n",
        "                  layers.Flatten(),\n",
        "\n",
        "                  layers.Dense(100, activation='relu'),\n",
        "                  layers.Dropout(0.1),\n",
        "                  layers.Dense(100, activation='relu'),\n",
        "                  layers.Dropout(0.1),\n",
        "                  layers.Dense(100, activation='relu'),\n",
        "                  layers.Dropout(0.1),\n",
        "                  layers.Dense(100, activation='relu'), \n",
        "                  layers.Dropout(0.1),      \n",
        "                  layers.Dense(100, activation='relu'),\n",
        "                  layers.Dense(10, activation='softmax')       \n",
        "])\n",
        "\n",
        "print(modele.summary())"
      ],
      "metadata": {
        "id": "28nZFH77jPZ-",
        "colab": {
          "base_uri": "https://localhost:8080/"
        },
        "outputId": "b9022839-fb97-45cb-e51b-61974dc08c30"
      },
      "execution_count": 6,
      "outputs": [
        {
          "output_type": "stream",
          "name": "stdout",
          "text": [
            "Model: \"sequential\"\n",
            "_________________________________________________________________\n",
            " Layer (type)                Output Shape              Param #   \n",
            "=================================================================\n",
            " conv2d (Conv2D)             (None, 28, 28, 32)        320       \n",
            "                                                                 \n",
            " max_pooling2d (MaxPooling2D  (None, 14, 14, 32)       0         \n",
            " )                                                               \n",
            "                                                                 \n",
            " conv2d_1 (Conv2D)           (None, 14, 14, 16)        4624      \n",
            "                                                                 \n",
            " max_pooling2d_1 (MaxPooling  (None, 7, 7, 16)         0         \n",
            " 2D)                                                             \n",
            "                                                                 \n",
            " flatten (Flatten)           (None, 784)               0         \n",
            "                                                                 \n",
            " dense (Dense)               (None, 100)               78500     \n",
            "                                                                 \n",
            " dropout (Dropout)           (None, 100)               0         \n",
            "                                                                 \n",
            " dense_1 (Dense)             (None, 100)               10100     \n",
            "                                                                 \n",
            " dropout_1 (Dropout)         (None, 100)               0         \n",
            "                                                                 \n",
            " dense_2 (Dense)             (None, 100)               10100     \n",
            "                                                                 \n",
            " dropout_2 (Dropout)         (None, 100)               0         \n",
            "                                                                 \n",
            " dense_3 (Dense)             (None, 100)               10100     \n",
            "                                                                 \n",
            " dropout_3 (Dropout)         (None, 100)               0         \n",
            "                                                                 \n",
            " dense_4 (Dense)             (None, 100)               10100     \n",
            "                                                                 \n",
            " dense_5 (Dense)             (None, 10)                1010      \n",
            "                                                                 \n",
            "=================================================================\n",
            "Total params: 124,854\n",
            "Trainable params: 124,854\n",
            "Non-trainable params: 0\n",
            "_________________________________________________________________\n",
            "None\n"
          ]
        }
      ]
    },
    {
      "cell_type": "code",
      "source": [
        "modele.compile(\n",
        "    optimizer = 'Adam',\n",
        "    loss = 'categorical_crossentropy',\n",
        "    metrics = ['accuracy']\n",
        ")"
      ],
      "metadata": {
        "id": "OJ75CFXWl-9f"
      },
      "execution_count": 7,
      "outputs": []
    },
    {
      "cell_type": "code",
      "source": [
        "# Partie C - entraînement\n",
        "\n",
        "history = modele.fit(X_train, y_train, epochs=50, validation_data=(X_valid, y_valid))\n"
      ],
      "metadata": {
        "id": "19TEn2nTlDCm",
        "colab": {
          "base_uri": "https://localhost:8080/"
        },
        "outputId": "b28784e0-335a-48ef-abeb-b0abf1631074"
      },
      "execution_count": null,
      "outputs": [
        {
          "output_type": "stream",
          "name": "stdout",
          "text": [
            "Epoch 1/50\n",
            "985/985 [==============================] - 38s 38ms/step - loss: 0.2008 - accuracy: 0.9398 - val_loss: 0.0995 - val_accuracy: 0.9702\n",
            "Epoch 2/50\n",
            "985/985 [==============================] - 32s 33ms/step - loss: 0.0938 - accuracy: 0.9739 - val_loss: 0.0696 - val_accuracy: 0.9805\n",
            "Epoch 3/50\n",
            "814/985 [=======================>......] - ETA: 5s - loss: 0.0684 - accuracy: 0.9803"
          ]
        }
      ]
    },
    {
      "cell_type": "code",
      "source": [
        "history_data = pd.DataFrame(history.history)\n",
        "history_data.plot(figsize=(8,5))\n",
        "plt.grid=True\n",
        "plt.gca().set_ylim(0,1) #regler la plage verticale sur [0-1]"
      ],
      "metadata": {
        "id": "p_1PkvINmk8j",
        "colab": {
          "base_uri": "https://localhost:8080/",
          "height": 215
        },
        "outputId": "df3e3347-4da7-4c89-ef32-d97765eb69ab"
      },
      "execution_count": 1,
      "outputs": [
        {
          "output_type": "error",
          "ename": "NameError",
          "evalue": "ignored",
          "traceback": [
            "\u001b[0;31m---------------------------------------------------------------------------\u001b[0m",
            "\u001b[0;31mNameError\u001b[0m                                 Traceback (most recent call last)",
            "\u001b[0;32m<ipython-input-1-ebdafd249c1c>\u001b[0m in \u001b[0;36m<module>\u001b[0;34m()\u001b[0m\n\u001b[0;32m----> 1\u001b[0;31m \u001b[0mhistory_data\u001b[0m \u001b[0;34m=\u001b[0m \u001b[0mpd\u001b[0m\u001b[0;34m.\u001b[0m\u001b[0mDataFrame\u001b[0m\u001b[0;34m(\u001b[0m\u001b[0mhistory\u001b[0m\u001b[0;34m.\u001b[0m\u001b[0mhistory\u001b[0m\u001b[0;34m)\u001b[0m\u001b[0;34m\u001b[0m\u001b[0;34m\u001b[0m\u001b[0m\n\u001b[0m\u001b[1;32m      2\u001b[0m \u001b[0mhistory_data\u001b[0m\u001b[0;34m.\u001b[0m\u001b[0mplot\u001b[0m\u001b[0;34m(\u001b[0m\u001b[0mfigsize\u001b[0m\u001b[0;34m=\u001b[0m\u001b[0;34m(\u001b[0m\u001b[0;36m8\u001b[0m\u001b[0;34m,\u001b[0m\u001b[0;36m5\u001b[0m\u001b[0;34m)\u001b[0m\u001b[0;34m)\u001b[0m\u001b[0;34m\u001b[0m\u001b[0;34m\u001b[0m\u001b[0m\n\u001b[1;32m      3\u001b[0m \u001b[0mplt\u001b[0m\u001b[0;34m.\u001b[0m\u001b[0mgrid\u001b[0m\u001b[0;34m=\u001b[0m\u001b[0;32mTrue\u001b[0m\u001b[0;34m\u001b[0m\u001b[0;34m\u001b[0m\u001b[0m\n\u001b[1;32m      4\u001b[0m \u001b[0mplt\u001b[0m\u001b[0;34m.\u001b[0m\u001b[0mgca\u001b[0m\u001b[0;34m(\u001b[0m\u001b[0;34m)\u001b[0m\u001b[0;34m.\u001b[0m\u001b[0mset_ylim\u001b[0m\u001b[0;34m(\u001b[0m\u001b[0;36m0\u001b[0m\u001b[0;34m,\u001b[0m\u001b[0;36m1\u001b[0m\u001b[0;34m)\u001b[0m \u001b[0;31m#regler la plage verticale sur [0-1]\u001b[0m\u001b[0;34m\u001b[0m\u001b[0;34m\u001b[0m\u001b[0m\n",
            "\u001b[0;31mNameError\u001b[0m: name 'pd' is not defined"
          ]
        }
      ]
    },
    {
      "cell_type": "code",
      "source": [
        "history_data['loss','val_loss'].plot()\n",
        "#history_data[5:,['loss','val_loss']].plot()\n",
        "history_data['accuracy','val_accuracy'].plot()\n",
        "\n",
        "print(('best validation loss: {:0.4f}'+\\\n",
        "    '\\nbest validation accuracy: {:0.4f}')\\\n",
        "    .format(history_data['val_loss'].min(),\n",
        "            history_data['binary_accuracy'].max()))"
      ],
      "metadata": {
        "id": "i3crtXtMNp7o"
      },
      "execution_count": null,
      "outputs": []
    },
    {
      "cell_type": "code",
      "source": [
        "# Partie D - prédiction\n",
        "y_test = modele.predict(X_test)"
      ],
      "metadata": {
        "id": "ajbm7Pd9jPKb"
      },
      "execution_count": null,
      "outputs": []
    },
    {
      "cell_type": "code",
      "source": [
        ""
      ],
      "metadata": {
        "id": "6d4TxjeBjBBK"
      },
      "execution_count": null,
      "outputs": []
    },
    {
      "cell_type": "code",
      "source": [
        "# Partie E - sauvegarde\n",
        "\n"
      ],
      "metadata": {
        "id": "7gnaLN8ClkI7"
      },
      "execution_count": null,
      "outputs": []
    }
  ]
}