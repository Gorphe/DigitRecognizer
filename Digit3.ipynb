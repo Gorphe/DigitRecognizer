{
  "nbformat": 4,
  "nbformat_minor": 0,
  "metadata": {
    "colab": {
      "name": "Digit.ipynb",
      "provenance": [],
      "collapsed_sections": [],
      "authorship_tag": "ABX9TyMNihzyTcIe31nQmgFCuyN2",
      "include_colab_link": true
    },
    "kernelspec": {
      "name": "python3",
      "display_name": "Python 3"
    },
    "language_info": {
      "name": "python"
    }
  },
  "cells": [
    {
      "cell_type": "markdown",
      "metadata": {
        "id": "view-in-github",
        "colab_type": "text"
      },
      "source": [
        "<a href=\"https://colab.research.google.com/github/filsto/DigitRecognizer/blob/main/Digit3.ipynb\" target=\"_parent\"><img src=\"https://colab.research.google.com/assets/colab-badge.svg\" alt=\"Open In Colab\"/></a>"
      ]
    },
    {
      "cell_type": "code",
      "execution_count": 1,
      "metadata": {
        "id": "mKTMAf6Hirbj"
      },
      "outputs": [],
      "source": [
        "import tensorflow as tf\n",
        "import sklearn\n",
        "import numpy as np\n",
        "import pandas as pd\n",
        "import matplotlib.pyplot as plt\n",
        "from tensorflow import keras\n",
        "from tensorflow.keras import layers\n",
        "from tensorflow.keras.models import Sequential\n",
        "from tensorflow.keras.layers import Dense, BatchNormalization, Conv2D, Flatten, MaxPool2D, Dropout\n",
        "from tensorflow.keras.utils import to_categorical\n",
        "from sklearn.model_selection import train_test_split "
      ]
    },
    {
      "cell_type": "code",
      "source": [
        "# Partie A - les données\n",
        "\n",
        "from google.colab import drive\n",
        "drive.mount('/content/drive')\n",
        "from google.colab import files"
      ],
      "metadata": {
        "id": "u3vSAmr8i4y3",
        "colab": {
          "base_uri": "https://localhost:8080/"
        },
        "outputId": "e44cb114-1f74-46ab-dbaa-74c063456f75"
      },
      "execution_count": 2,
      "outputs": [
        {
          "output_type": "stream",
          "name": "stdout",
          "text": [
            "Mounted at /content/drive\n"
          ]
        }
      ]
    },
    {
      "cell_type": "markdown",
      "source": [
        ""
      ],
      "metadata": {
        "id": "5eyp409CToLQ"
      }
    },
    {
      "cell_type": "code",
      "source": [
        "#loader les datasets\n",
        "train_set = pd.read_csv('/content/drive/MyDrive/DATA/Digit_recognizer/train.csv', sep=\",\")\n",
        "test_set = pd.read_csv('/content/drive/MyDrive/DATA/Digit_recognizer/test.csv', sep=\",\")"
      ],
      "metadata": {
        "id": "x1wUQVNZRglz"
      },
      "execution_count": 3,
      "outputs": []
    },
    {
      "cell_type": "code",
      "source": [
        "#préparer les datas\n",
        "y_train=(train_set['label'])/255\n",
        "X_train=(train_set.drop(['label'], axis = 1))/255\n",
        "\n",
        "print('X_train:',X_train.shape)\n",
        "print('y_train:',y_train.shape)\n",
        "\n",
        "#redimensionner X\n",
        "X_train = X_train.values.reshape(-1,28,28,1)\n",
        "X_test = test_set.values.reshape(-1,28,28,1)\n",
        "\n",
        "#categoriser y\n",
        "y_train=pd.get_dummies(y_train)\n",
        "\n",
        "#splitter\n",
        "X_train, X_valid, y_train, y_valid = train_test_split(X_train, y_train, random_state=0)"
      ],
      "metadata": {
        "id": "hOcLNtPoF-Sn",
        "colab": {
          "base_uri": "https://localhost:8080/"
        },
        "outputId": "5aea2337-2a08-4ca5-9ce3-d8569f89f363"
      },
      "execution_count": 4,
      "outputs": [
        {
          "output_type": "stream",
          "name": "stdout",
          "text": [
            "X_train: (42000, 784)\n",
            "y_train: (42000,)\n"
          ]
        }
      ]
    },
    {
      "cell_type": "code",
      "source": [
        "print('X_train:',X_train.shape)\n",
        "print('y_train:',y_train.shape)\n",
        "print('X_valid:',X_valid.shape)\n",
        "print('y_valid:',y_valid.shape)"
      ],
      "metadata": {
        "id": "4uWdqeTEU1X4",
        "colab": {
          "base_uri": "https://localhost:8080/"
        },
        "outputId": "aee1f54f-f1ab-4750-f98e-0ff7bf3545e1"
      },
      "execution_count": 5,
      "outputs": [
        {
          "output_type": "stream",
          "name": "stdout",
          "text": [
            "X_train: (31500, 28, 28, 1)\n",
            "y_train: (31500, 10)\n",
            "X_valid: (10500, 28, 28, 1)\n",
            "y_valid: (10500, 10)\n"
          ]
        }
      ]
    },
    {
      "cell_type": "code",
      "source": [
        "# Partie B - le réseau de neurones\n",
        "\n",
        "modele = keras.Sequential([\n",
        "                  layers.Conv2D(32, kernel_size=(3,3), padding='same', activation='relu', input_shape=(28,28,1)),\n",
        "                  layers.MaxPool2D(),\n",
        "\n",
        "                  layers.Conv2D(16, kernel_size=(3,3), padding='same', activation='relu'),\n",
        "                  layers.MaxPool2D(),\n",
        "\n",
        "                  layers.Flatten(),\n",
        "\n",
        "                  layers.Dense(100, activation='relu'),\n",
        "                  layers.Dropout(0.1),\n",
        "                  layers.Dense(100, activation='relu'),\n",
        "                  layers.Dropout(0.1),\n",
        "                  layers.Dense(100, activation='relu'),\n",
        "                  layers.Dropout(0.1),\n",
        "                  layers.Dense(100, activation='relu'), \n",
        "                  layers.Dropout(0.1),      \n",
        "                  layers.Dense(100, activation='relu'),\n",
        "                  layers.Dense(10, activation='softmax')       \n",
        "])\n",
        "\n",
        "print(modele.summary())"
      ],
      "metadata": {
        "id": "28nZFH77jPZ-"
      },
      "execution_count": null,
      "outputs": []
    },
    {
      "cell_type": "code",
      "source": [
        "modele.compile(\n",
        "    optimizer = 'Adam',\n",
        "    loss = 'categorical_crossentropy',\n",
        "    metrics = ['accuracy']\n",
        ")"
      ],
      "metadata": {
        "id": "OJ75CFXWl-9f"
      },
      "execution_count": 7,
      "outputs": []
    },
    {
      "cell_type": "code",
      "source": [
        "# Partie C - entraînement\n",
        "\n",
        "history = modele.fit(X_train, y_train, epochs=50, validation_data=(X_valid, y_valid))\n"
      ],
      "metadata": {
        "id": "19TEn2nTlDCm"
      },
      "execution_count": null,
      "outputs": []
    },
    {
      "cell_type": "code",
      "source": [
        "history_data = pd.DataFrame(history.history)\n",
        "history_data.plot(figsize=(8,5))\n",
        "plt.grid=True\n",
        "plt.gca().set_ylim(0,1) #regler la plage verticale sur [0-1]"
      ],
      "metadata": {
        "id": "p_1PkvINmk8j"
      },
      "execution_count": null,
      "outputs": []
    },
    {
      "cell_type": "code",
      "source": [
        "#history_data['loss','val_loss'].plot()\n",
        "#history_data[5:,['loss','val_loss']].plot()\n",
        "#history_data['accuracy','val_accuracy'].plot()\n",
        "\n",
        "print(('best validation loss: {:0.4f}'+\\\n",
        "    '\\nbest validation accuracy: {:0.4f}')\\\n",
        "    .format(history_data['val_loss'].min(),\n",
        "            history_data['val_accuracy'].max()))\n",
        "history_data"
      ],
      "metadata": {
        "id": "i3crtXtMNp7o"
      },
      "execution_count": null,
      "outputs": []
    },
    {
      "cell_type": "code",
      "source": [
        "# Partie D - prédiction\n",
        "y_test = modele.predict(X_test)"
      ],
      "metadata": {
        "id": "ajbm7Pd9jPKb"
      },
      "execution_count": 16,
      "outputs": []
    },
    {
      "cell_type": "code",
      "source": [
        "y_test = [np.argmax(x) for x in y_test]"
      ],
      "metadata": {
        "id": "8X9yURdeKBd1"
      },
      "execution_count": 22,
      "outputs": []
    },
    {
      "cell_type": "code",
      "source": [
        "y_test_df = pd.DataFrame(data = {\n",
        "    'ImageId' : list(range(1, len(y_test)+1)),\n",
        "    'Label' : y_test\n",
        "})"
      ],
      "metadata": {
        "id": "6d4TxjeBjBBK"
      },
      "execution_count": 24,
      "outputs": []
    },
    {
      "cell_type": "code",
      "source": [
        "y_test_df"
      ],
      "metadata": {
        "colab": {
          "base_uri": "https://localhost:8080/",
          "height": 419
        },
        "id": "2hvLiGU9K-om",
        "outputId": "923fffb5-6713-4dbb-bc52-e5b46a225977"
      },
      "execution_count": 25,
      "outputs": [
        {
          "output_type": "execute_result",
          "data": {
            "text/plain": [
              "       ImageId  Label\n",
              "0            1      2\n",
              "1            2      0\n",
              "2            3      9\n",
              "3            4      0\n",
              "4            5      3\n",
              "...        ...    ...\n",
              "27995    27996      9\n",
              "27996    27997      7\n",
              "27997    27998      3\n",
              "27998    27999      9\n",
              "27999    28000      2\n",
              "\n",
              "[28000 rows x 2 columns]"
            ],
            "text/html": [
              "\n",
              "  <div id=\"df-dd4d453e-6b13-4466-8e04-7450dd0885eb\">\n",
              "    <div class=\"colab-df-container\">\n",
              "      <div>\n",
              "<style scoped>\n",
              "    .dataframe tbody tr th:only-of-type {\n",
              "        vertical-align: middle;\n",
              "    }\n",
              "\n",
              "    .dataframe tbody tr th {\n",
              "        vertical-align: top;\n",
              "    }\n",
              "\n",
              "    .dataframe thead th {\n",
              "        text-align: right;\n",
              "    }\n",
              "</style>\n",
              "<table border=\"1\" class=\"dataframe\">\n",
              "  <thead>\n",
              "    <tr style=\"text-align: right;\">\n",
              "      <th></th>\n",
              "      <th>ImageId</th>\n",
              "      <th>Label</th>\n",
              "    </tr>\n",
              "  </thead>\n",
              "  <tbody>\n",
              "    <tr>\n",
              "      <th>0</th>\n",
              "      <td>1</td>\n",
              "      <td>2</td>\n",
              "    </tr>\n",
              "    <tr>\n",
              "      <th>1</th>\n",
              "      <td>2</td>\n",
              "      <td>0</td>\n",
              "    </tr>\n",
              "    <tr>\n",
              "      <th>2</th>\n",
              "      <td>3</td>\n",
              "      <td>9</td>\n",
              "    </tr>\n",
              "    <tr>\n",
              "      <th>3</th>\n",
              "      <td>4</td>\n",
              "      <td>0</td>\n",
              "    </tr>\n",
              "    <tr>\n",
              "      <th>4</th>\n",
              "      <td>5</td>\n",
              "      <td>3</td>\n",
              "    </tr>\n",
              "    <tr>\n",
              "      <th>...</th>\n",
              "      <td>...</td>\n",
              "      <td>...</td>\n",
              "    </tr>\n",
              "    <tr>\n",
              "      <th>27995</th>\n",
              "      <td>27996</td>\n",
              "      <td>9</td>\n",
              "    </tr>\n",
              "    <tr>\n",
              "      <th>27996</th>\n",
              "      <td>27997</td>\n",
              "      <td>7</td>\n",
              "    </tr>\n",
              "    <tr>\n",
              "      <th>27997</th>\n",
              "      <td>27998</td>\n",
              "      <td>3</td>\n",
              "    </tr>\n",
              "    <tr>\n",
              "      <th>27998</th>\n",
              "      <td>27999</td>\n",
              "      <td>9</td>\n",
              "    </tr>\n",
              "    <tr>\n",
              "      <th>27999</th>\n",
              "      <td>28000</td>\n",
              "      <td>2</td>\n",
              "    </tr>\n",
              "  </tbody>\n",
              "</table>\n",
              "<p>28000 rows × 2 columns</p>\n",
              "</div>\n",
              "      <button class=\"colab-df-convert\" onclick=\"convertToInteractive('df-dd4d453e-6b13-4466-8e04-7450dd0885eb')\"\n",
              "              title=\"Convert this dataframe to an interactive table.\"\n",
              "              style=\"display:none;\">\n",
              "        \n",
              "  <svg xmlns=\"http://www.w3.org/2000/svg\" height=\"24px\"viewBox=\"0 0 24 24\"\n",
              "       width=\"24px\">\n",
              "    <path d=\"M0 0h24v24H0V0z\" fill=\"none\"/>\n",
              "    <path d=\"M18.56 5.44l.94 2.06.94-2.06 2.06-.94-2.06-.94-.94-2.06-.94 2.06-2.06.94zm-11 1L8.5 8.5l.94-2.06 2.06-.94-2.06-.94L8.5 2.5l-.94 2.06-2.06.94zm10 10l.94 2.06.94-2.06 2.06-.94-2.06-.94-.94-2.06-.94 2.06-2.06.94z\"/><path d=\"M17.41 7.96l-1.37-1.37c-.4-.4-.92-.59-1.43-.59-.52 0-1.04.2-1.43.59L10.3 9.45l-7.72 7.72c-.78.78-.78 2.05 0 2.83L4 21.41c.39.39.9.59 1.41.59.51 0 1.02-.2 1.41-.59l7.78-7.78 2.81-2.81c.8-.78.8-2.07 0-2.86zM5.41 20L4 18.59l7.72-7.72 1.47 1.35L5.41 20z\"/>\n",
              "  </svg>\n",
              "      </button>\n",
              "      \n",
              "  <style>\n",
              "    .colab-df-container {\n",
              "      display:flex;\n",
              "      flex-wrap:wrap;\n",
              "      gap: 12px;\n",
              "    }\n",
              "\n",
              "    .colab-df-convert {\n",
              "      background-color: #E8F0FE;\n",
              "      border: none;\n",
              "      border-radius: 50%;\n",
              "      cursor: pointer;\n",
              "      display: none;\n",
              "      fill: #1967D2;\n",
              "      height: 32px;\n",
              "      padding: 0 0 0 0;\n",
              "      width: 32px;\n",
              "    }\n",
              "\n",
              "    .colab-df-convert:hover {\n",
              "      background-color: #E2EBFA;\n",
              "      box-shadow: 0px 1px 2px rgba(60, 64, 67, 0.3), 0px 1px 3px 1px rgba(60, 64, 67, 0.15);\n",
              "      fill: #174EA6;\n",
              "    }\n",
              "\n",
              "    [theme=dark] .colab-df-convert {\n",
              "      background-color: #3B4455;\n",
              "      fill: #D2E3FC;\n",
              "    }\n",
              "\n",
              "    [theme=dark] .colab-df-convert:hover {\n",
              "      background-color: #434B5C;\n",
              "      box-shadow: 0px 1px 3px 1px rgba(0, 0, 0, 0.15);\n",
              "      filter: drop-shadow(0px 1px 2px rgba(0, 0, 0, 0.3));\n",
              "      fill: #FFFFFF;\n",
              "    }\n",
              "  </style>\n",
              "\n",
              "      <script>\n",
              "        const buttonEl =\n",
              "          document.querySelector('#df-dd4d453e-6b13-4466-8e04-7450dd0885eb button.colab-df-convert');\n",
              "        buttonEl.style.display =\n",
              "          google.colab.kernel.accessAllowed ? 'block' : 'none';\n",
              "\n",
              "        async function convertToInteractive(key) {\n",
              "          const element = document.querySelector('#df-dd4d453e-6b13-4466-8e04-7450dd0885eb');\n",
              "          const dataTable =\n",
              "            await google.colab.kernel.invokeFunction('convertToInteractive',\n",
              "                                                     [key], {});\n",
              "          if (!dataTable) return;\n",
              "\n",
              "          const docLinkHtml = 'Like what you see? Visit the ' +\n",
              "            '<a target=\"_blank\" href=https://colab.research.google.com/notebooks/data_table.ipynb>data table notebook</a>'\n",
              "            + ' to learn more about interactive tables.';\n",
              "          element.innerHTML = '';\n",
              "          dataTable['output_type'] = 'display_data';\n",
              "          await google.colab.output.renderOutput(dataTable, element);\n",
              "          const docLink = document.createElement('div');\n",
              "          docLink.innerHTML = docLinkHtml;\n",
              "          element.appendChild(docLink);\n",
              "        }\n",
              "      </script>\n",
              "    </div>\n",
              "  </div>\n",
              "  "
            ]
          },
          "metadata": {},
          "execution_count": 25
        }
      ]
    },
    {
      "cell_type": "code",
      "source": [
        "# Partie E - sauvegarde\n",
        "\n",
        "y_test_df.to_csv('/content/drive/MyDrive/DATA/Digit_recognizer/submission.csv', index=False, sep=\",\")"
      ],
      "metadata": {
        "id": "7gnaLN8ClkI7"
      },
      "execution_count": 28,
      "outputs": []
    }
  ]
}