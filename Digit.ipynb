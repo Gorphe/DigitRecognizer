{
  "nbformat": 4,
  "nbformat_minor": 0,
  "metadata": {
    "colab": {
      "name": "Digit.ipynb",
      "provenance": [],
      "collapsed_sections": [],
      "authorship_tag": "ABX9TyPCW16A7P9H2f5rIu2Mv8Xz",
      "include_colab_link": true
    },
    "kernelspec": {
      "name": "python3",
      "display_name": "Python 3"
    },
    "language_info": {
      "name": "python"
    }
  },
  "cells": [
    {
      "cell_type": "markdown",
      "metadata": {
        "id": "view-in-github",
        "colab_type": "text"
      },
      "source": [
        "<a href=\"https://colab.research.google.com/github/filsto/DigitRecognizer/blob/main/Digit.ipynb\" target=\"_parent\"><img src=\"https://colab.research.google.com/assets/colab-badge.svg\" alt=\"Open In Colab\"/></a>"
      ]
    },
    {
      "cell_type": "code",
      "execution_count": 8,
      "metadata": {
        "id": "mKTMAf6Hirbj"
      },
      "outputs": [],
      "source": [
        "import tensorflow as tf\n",
        "import sklearn\n",
        "import numpy as np\n",
        "import pandas as pd\n",
        "import matplotlib.pyplot as plt\n",
        "from tensorflow import keras\n",
        "from tensorflow.keras import layers\n",
        "from tensorflow.keras.models import Sequential\n",
        "from tensorflow.keras.layers import Dense, BatchNormalization, Conv2D, Flatten, MaxPool2D, Dropout\n",
        "from tensorflow.keras.utils import to_categorical\n",
        "from sklearn.model_selection import train_test_split "
      ]
    },
    {
      "cell_type": "code",
      "source": [
        "# Partie A - les données\n",
        "\n",
        "from google.colab import drive\n",
        "drive.mount('/content/drive')\n",
        "from google.colab import files"
      ],
      "metadata": {
        "id": "u3vSAmr8i4y3",
        "colab": {
          "base_uri": "https://localhost:8080/"
        },
        "outputId": "a148125a-14d0-4b3e-aaf2-596a1ebc15f7"
      },
      "execution_count": 9,
      "outputs": [
        {
          "output_type": "stream",
          "name": "stdout",
          "text": [
            "Mounted at /content/drive\n"
          ]
        }
      ]
    },
    {
      "cell_type": "markdown",
      "source": [
        ""
      ],
      "metadata": {
        "id": "5eyp409CToLQ"
      }
    },
    {
      "cell_type": "code",
      "source": [
        "#loader les datasets\n",
        "train_set = pd.read_csv('/content/drive/MyDrive/DATA/Digit_recognizer/train.csv', sep=\",\")\n",
        "test_set = pd.read_csv('/content/drive/MyDrive/DATA/Digit_recognizer/test.csv', sep=\",\")"
      ],
      "metadata": {
        "id": "x1wUQVNZRglz"
      },
      "execution_count": 11,
      "outputs": []
    },
    {
      "cell_type": "code",
      "source": [
        "#préparer les datas\n",
        "y_train=(train_set['label'])/255\n",
        "X_train=(train_set.drop(['label'], axis = 1))/255\n",
        "\n",
        "print('X_train:',X_train.shape)\n",
        "print('y_train:',y_train.shape)\n",
        "\n",
        "#redimensionner X\n",
        "X_train = X_train.values.reshape(-1,28,28,1)\n",
        "X_test = test_set.values.reshape(-1,28,28,1)\n",
        "\n",
        "#categoriser y\n",
        "y_train=pd.get_dummies(y_train)\n",
        "\n",
        "#splitter\n",
        "X_train, X_valid, y_train, y_valid = train_test_split(X_train, y_train, random_state=0)"
      ],
      "metadata": {
        "id": "hOcLNtPoF-Sn"
      },
      "execution_count": null,
      "outputs": []
    },
    {
      "cell_type": "code",
      "source": [
        "print('X_train:',X_train.shape)\n",
        "print('y_train:',y_train.shape)\n",
        "print('X_valid:',X_valid.shape)\n",
        "print('y_valid:',y_valid.shape)"
      ],
      "metadata": {
        "id": "4uWdqeTEU1X4"
      },
      "execution_count": null,
      "outputs": []
    },
    {
      "cell_type": "code",
      "source": [
        "# Partie B - le réseau de neurones\n",
        "\n",
        "modele = keras.Sequential([\n",
        "                  layers.Conv2D(32, kernel_size=(3,3), padding='same', activation='relu', input_shape=(28,28,1)),\n",
        "                  layers.MaxPool2D(),\n",
        "\n",
        "                  layers.Conv2D(16, kernel_size=(3,3), padding='same', activation='relu'),\n",
        "                  layers.MaxPool2D(),\n",
        "\n",
        "                  layers.Flatten(),\n",
        "\n",
        "                  layers.Dense(1024, activation='relu'),\n",
        "                  layers.Dropout(0.1),\n",
        "                  layers.Dense(1024, activation='relu'),\n",
        "                  layers.Dropout(0.1),\n",
        "                  layers.Dense(1024, activation='relu'),\n",
        "                  layers.Dropout(0.1),\n",
        "                  layers.Dense(1024, activation='relu'),\n",
        "                  layers.Dropout(0.1),\n",
        "                  layers.Dense(1024, activation='relu'),\n",
        "                  layers.Dropout(0.1),\n",
        "                  layers.Dense(1024, activation='relu'),\n",
        "                  layers.Dropout(0.1),         \n",
        "                  layers.Dense(1024, activation='relu'),\n",
        "                  layers.Dense(10, activation='softmax')       \n",
        "])\n",
        "\n",
        "print(modele.summary())"
      ],
      "metadata": {
        "id": "28nZFH77jPZ-",
        "colab": {
          "base_uri": "https://localhost:8080/"
        },
        "outputId": "832e750b-71b1-4f02-c860-3ee871c1eddd"
      },
      "execution_count": 15,
      "outputs": [
        {
          "output_type": "stream",
          "name": "stdout",
          "text": [
            "Model: \"sequential_1\"\n",
            "_________________________________________________________________\n",
            " Layer (type)                Output Shape              Param #   \n",
            "=================================================================\n",
            " conv2d_5 (Conv2D)           (None, 28, 28, 32)        320       \n",
            "                                                                 \n",
            " max_pooling2d_5 (MaxPooling  (None, 14, 14, 32)       0         \n",
            " 2D)                                                             \n",
            "                                                                 \n",
            " conv2d_6 (Conv2D)           (None, 14, 14, 16)        4624      \n",
            "                                                                 \n",
            " max_pooling2d_6 (MaxPooling  (None, 7, 7, 16)         0         \n",
            " 2D)                                                             \n",
            "                                                                 \n",
            " flatten_1 (Flatten)         (None, 784)               0         \n",
            "                                                                 \n",
            " dense_8 (Dense)             (None, 1024)              803840    \n",
            "                                                                 \n",
            " dropout_1 (Dropout)         (None, 1024)              0         \n",
            "                                                                 \n",
            " dense_9 (Dense)             (None, 1024)              1049600   \n",
            "                                                                 \n",
            " dropout_2 (Dropout)         (None, 1024)              0         \n",
            "                                                                 \n",
            " dense_10 (Dense)            (None, 1024)              1049600   \n",
            "                                                                 \n",
            " dropout_3 (Dropout)         (None, 1024)              0         \n",
            "                                                                 \n",
            " dense_11 (Dense)            (None, 1024)              1049600   \n",
            "                                                                 \n",
            " dropout_4 (Dropout)         (None, 1024)              0         \n",
            "                                                                 \n",
            " dense_12 (Dense)            (None, 1024)              1049600   \n",
            "                                                                 \n",
            " dropout_5 (Dropout)         (None, 1024)              0         \n",
            "                                                                 \n",
            " dense_13 (Dense)            (None, 1024)              1049600   \n",
            "                                                                 \n",
            " dropout_6 (Dropout)         (None, 1024)              0         \n",
            "                                                                 \n",
            " dense_14 (Dense)            (None, 1024)              1049600   \n",
            "                                                                 \n",
            " dense_15 (Dense)            (None, 10)                10250     \n",
            "                                                                 \n",
            "=================================================================\n",
            "Total params: 7,116,634\n",
            "Trainable params: 7,116,634\n",
            "Non-trainable params: 0\n",
            "_________________________________________________________________\n",
            "None\n"
          ]
        }
      ]
    },
    {
      "cell_type": "code",
      "source": [
        "modele.compile(\n",
        "    optimizer = 'Adam',\n",
        "    loss = 'categorical_crossentropy',\n",
        "    metrics = ['accuracy']\n",
        ")"
      ],
      "metadata": {
        "id": "OJ75CFXWl-9f"
      },
      "execution_count": 27,
      "outputs": []
    },
    {
      "cell_type": "code",
      "source": [
        "# Partie C - entraînement\n",
        "\n",
        "history = modele.fit(X_train, y_train, epochs=200, validation_data=(X_valid, y_valid))\n"
      ],
      "metadata": {
        "id": "19TEn2nTlDCm",
        "colab": {
          "base_uri": "https://localhost:8080/"
        },
        "outputId": "d2102281-25da-40be-a9ec-9c8fcec66bd1"
      },
      "execution_count": null,
      "outputs": [
        {
          "output_type": "stream",
          "name": "stdout",
          "text": [
            "985/985 [==============================] - 147s 150ms/step - loss: 0.0162 - accuracy: 0.9968 - val_loss: 0.5821 - val_accuracy: 0.9839\n",
            "985/985 [==============================] - 147s 150ms/step - loss: 0.0162 - accuracy: 0.9968 - val_loss: 0.5821 - val_accuracy: 0.9839\n",
            "Epoch 110/200\n",
            "Epoch 110/200\n",
            "816/985 [=======================>......] - ETA: 23s - loss: 0.0058 - accuracy: 0.9989"
          ]
        }
      ]
    },
    {
      "cell_type": "code",
      "source": [
        "history_data = pd.DataFrame(history.history)\n",
        "history_data.plot(figsize=(8,5))\n",
        "plt.grid=True\n",
        "plt.gca().set_ylim(0,1) #regler la plage verticale sur [0-1]"
      ],
      "metadata": {
        "id": "p_1PkvINmk8j"
      },
      "execution_count": null,
      "outputs": []
    },
    {
      "cell_type": "code",
      "source": [
        "history_data['loss','val_loss'].plot()\n",
        "#history_data[5:,['loss','val_loss']].plot()\n",
        "history_data['accuracy','val_accuracy'].plot()\n",
        "\n",
        "print(('best validation loss: {:0.4f}'+\\\n",
        "    '\\nbest validation accuracy: {:0.4f}')\\\n",
        "    .format(history_data['val_loss'].min(),\n",
        "            history_data['binary_accuracy'].max()))"
      ],
      "metadata": {
        "id": "i3crtXtMNp7o"
      },
      "execution_count": null,
      "outputs": []
    },
    {
      "cell_type": "code",
      "source": [
        "# Partie D - prédiction\n",
        "y_test = modele.predict(X_test)"
      ],
      "metadata": {
        "id": "ajbm7Pd9jPKb"
      },
      "execution_count": null,
      "outputs": []
    },
    {
      "cell_type": "code",
      "source": [
        ""
      ],
      "metadata": {
        "id": "6d4TxjeBjBBK"
      },
      "execution_count": null,
      "outputs": []
    },
    {
      "cell_type": "code",
      "source": [
        "# Partie E - sauvegarde\n",
        "\n"
      ],
      "metadata": {
        "id": "7gnaLN8ClkI7"
      },
      "execution_count": null,
      "outputs": []
    }
  ]
}